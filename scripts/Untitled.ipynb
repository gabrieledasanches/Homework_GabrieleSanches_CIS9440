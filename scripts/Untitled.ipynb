{
 "cells": [
  {
   "cell_type": "code",
   "execution_count": 1,
   "id": "65f87ddb",
   "metadata": {},
   "outputs": [],
   "source": [
    "import pandas as pd\n",
    "import numpy as np\n",
    "import json\n",
    "import requests\n",
    "from io import StringIO\n",
    "from azure.storage.blob import BlobServiceClient, BlobClient, ContainerClient\n",
    "from math import ceil\n",
    "import datetime\n",
    "import calendar\n",
    "from sqlalchemy import create_engine\n"
   ]
  },
  {
   "cell_type": "code",
   "execution_count": null,
   "id": "744d99ce",
   "metadata": {},
   "outputs": [
    {
     "name": "stdout",
     "output_type": "stream",
     "text": [
      "car_crash.csv\n"
     ]
    }
   ],
   "source": [
    "# Specify the path to your JSON configuration file\n",
    "config_file_path = \"/Users/gabisanches/Desktop/CIS9440 - Data Warehouse/Homework/Homework_GabrieleSanches_CIS9440/scripts/config.json\"\n",
    "\n",
    "# Load the JSON configuration file\n",
    "with open(config_file_path, 'r') as config_file:\n",
    "    config = json.load(config_file)\n",
    "\n",
    "\n",
    "CONNECTION_STRING_AZURE_STORAGE = config[\"connectionString\"]\n",
    "CONTAINER_AZURE = 'carcrash'\n",
    "\n",
    "# Initialize the BlobServiceClient\n",
    "blob_service_client = BlobServiceClient.from_connection_string(CONNECTION_STRING_AZURE_STORAGE)\n",
    "# Get the container client\n",
    "container_client = blob_service_client.get_container_client(CONTAINER_AZURE)\n",
    "\n",
    "\n",
    "car_crash_df = pd.DataFrame()\n",
    "\n",
    "# List all blobs in the specified container\n",
    "blob_list = container_client.list_blobs()\n",
    "for blob in blob_list:\n",
    "    print(blob.name)\n",
    "    blob_client = container_client.get_blob_client(blob=blob.name)\n",
    "    blob_data = blob_client.download_blob()\n",
    "    blob_content = blob_data.readall().decode('utf-8')\n",
    "    df = pd.read_csv(StringIO(blob_content))\n",
    "    # Display the head of the DataFrame\n",
    "    print(df.shape)\n",
    "    # sind I have only one csv, I am doing to do the following instructions\n",
    "    car_crash_df = df.copy()"
   ]
  },
  {
   "cell_type": "code",
   "execution_count": null,
   "id": "4e6dcd51",
   "metadata": {},
   "outputs": [],
   "source": [
    "#printcolumns in the data set\n",
    "print(car_crash_df.columns)"
   ]
  },
  {
   "cell_type": "code",
   "execution_count": null,
   "id": "501a7d8b",
   "metadata": {},
   "outputs": [],
   "source": [
    "car_crash_df.head()"
   ]
  },
  {
   "cell_type": "code",
   "execution_count": null,
   "id": "eacecff3",
   "metadata": {},
   "outputs": [],
   "source": [
    "#dropping columns that are not needed\n",
    "car_crash_df = car_crash_df.drop(columns=['contributing_factor_vehicle_3'])\n",
    "car_crash_df = car_crash_df.drop(columns=['vehicle_type_code_3'])\n",
    "car_crash_df = car_crash_df.drop(columns=['contributing_factor_vehicle_4'])\n",
    "car_crash_df = car_crash_df.drop(columns=['vehicle_type_code_4'])\n",
    "car_crash_df = car_crash_df.drop(columns=['contributing_factor_vehicle_5'])\n",
    "car_crash_df = car_crash_df.drop(columns=['vehicle_type_code_5'])"
   ]
  },
  {
   "cell_type": "code",
   "execution_count": null,
   "id": "35f42f2e",
   "metadata": {},
   "outputs": [],
   "source": [
    "car_crash_df = car_crash_df.drop(columns=['contributing_factor_vehicle_2'])\n",
    "car_crash_df = car_crash_df.drop(columns=['vehicle_type_code2'])"
   ]
  },
  {
   "cell_type": "code",
   "execution_count": null,
   "id": "d6eda171",
   "metadata": {},
   "outputs": [],
   "source": [
    "car_crash_df = car_crash_df.drop(columns=['location'])"
   ]
  },
  {
   "cell_type": "code",
   "execution_count": null,
   "id": "1a3d8f26",
   "metadata": {},
   "outputs": [],
   "source": [
    "car_crash_df = car_crash_df.drop(columns=['cross_street_name'])"
   ]
  },
  {
   "cell_type": "code",
   "execution_count": null,
   "id": "71ae315d",
   "metadata": {},
   "outputs": [],
   "source": [
    "car_crash_df.head()"
   ]
  },
  {
   "cell_type": "code",
   "execution_count": null,
   "id": "ef57b794",
   "metadata": {},
   "outputs": [],
   "source": [
    "#rename columns\n",
    "car_crash_df.rename(columns={'contributing_factor_vehicle_1': 'contributing_factor_vehicle'}, inplace=True)\n",
    "car_crash_df.rename(columns={'vehicle_type_code1': 'vehicle_type_code'}, inplace=True)"
   ]
  },
  {
   "cell_type": "code",
   "execution_count": null,
   "id": "5ba124f3",
   "metadata": {},
   "outputs": [],
   "source": [
    "#check column names after initial cleaning and transformation\n",
    "print(car_crash_df.columns)"
   ]
  },
  {
   "cell_type": "code",
   "execution_count": null,
   "id": "b0c8c3a1",
   "metadata": {},
   "outputs": [],
   "source": [
    "#drop na - drop rows that do not have data in the \"on_street_name\" column\n",
    "#car_crash_df['on_street_name'].dropna(inplace=True)\n",
    "car_crash_df = car_crash_df[car_crash_df['on_street_name'].notna()]\n",
    "\n",
    "car_crash_df.head()"
   ]
  },
  {
   "cell_type": "code",
   "execution_count": null,
   "id": "ed8ab9f9",
   "metadata": {},
   "outputs": [],
   "source": [
    "#reformat to int format \n",
    "car_crash_df['number_of_persons_injured'] = car_crash_df['number_of_persons_injured'].astype('Int64')\n",
    "car_crash_df['number_of_persons_killed'] = car_crash_df['number_of_persons_killed'].astype('Int64')\n",
    "car_crash_df['number_of_pedestrians_injured'] = car_crash_df['number_of_pedestrians_injured'].astype('Int64')\n",
    "car_crash_df['number_of_pedestrians_killed'] = car_crash_df['number_of_pedestrians_killed'].astype('Int64')\n",
    "car_crash_df['number_of_cyclist_injured'] = car_crash_df['number_of_cyclist_injured'].astype('Int64')\n",
    "car_crash_df['number_of_cyclist_killed'] = car_crash_df['number_of_cyclist_killed'].astype('Int64')\n",
    "car_crash_df['number_of_motorist_injured'] = car_crash_df['number_of_motorist_injured'].astype('Int64')\n",
    "car_crash_df['number_of_motorist_killed'] = car_crash_df['number_of_motorist_killed'].astype('Int64')\n",
    "\n",
    "car_crash_df.head()"
   ]
  },
  {
   "cell_type": "code",
   "execution_count": null,
   "id": "3e3688cb",
   "metadata": {},
   "outputs": [],
   "source": [
    "print(car_crash_df.columns)"
   ]
  },
  {
   "cell_type": "code",
   "execution_count": null,
   "id": "fd5d6fed",
   "metadata": {},
   "outputs": [],
   "source": [
    "#Creating vehicle_type dimension\n",
    "\n",
    "# Get unique values from the 'vehicle_type_code' column\n",
    "unique_vehicle_types = car_crash_df['vehicle_type_code'].unique()\n",
    "\n",
    "# Create DataFrame for the dimension table\n",
    "dim_vehicle_type = pd.DataFrame(unique_vehicle_types, columns=['vehicle_type_code'])\n",
    "\n",
    "# Add primary key column\n",
    "dim_vehicle_type['vehicle_id'] = range(1, len(dim_vehicle_type) + 1)\n",
    "\n",
    "# Rearrange columns if needed\n",
    "dim_vehicle_type = dim_vehicle_type[['vehicle_id', 'vehicle_type_code']]\n",
    "\n",
    "# Print dimension table\n",
    "print(dim_vehicle_type)\n"
   ]
  },
  {
   "cell_type": "code",
   "execution_count": null,
   "id": "ae50dac6",
   "metadata": {},
   "outputs": [],
   "source": [
    "#Creating contributing_factors dimension\n",
    "\n",
    "# Get unique values from the 'contributing_factor_vehicle' column\n",
    "unique_contributing_factors = car_crash_df['contributing_factor_vehicle'].dropna().unique()\n",
    "\n",
    "# Create DataFrame for the dimension table\n",
    "dim_contributing_factors = pd.DataFrame(unique_contributing_factors, columns=['contributing_factor'])\n",
    "\n",
    "# Add primary key column\n",
    "dim_contributing_factors['contributingfactor_id'] = range(1, len(dim_contributing_factors) + 1)\n",
    "\n",
    "# Rearrange columns if needed\n",
    "dim_contributing_factors = dim_contributing_factors[['contributingfactor_id', 'contributing_factor']]\n",
    "\n",
    "# Print dimension table\n",
    "print(dim_contributing_factors)"
   ]
  },
  {
   "cell_type": "code",
   "execution_count": null,
   "id": "2676c5ca",
   "metadata": {},
   "outputs": [],
   "source": [
    "#Creating location dimension\n",
    "\n",
    "# Extract relevant columns for dim_location\n",
    "dim_location_df = car_crash_df[['borough', 'latitude', 'longitude', 'zip_code', 'on_street_name', 'off_street_name']]\n",
    "\n",
    "# Drop duplicate rows\n",
    "dim_location_df.drop_duplicates(inplace=True)\n",
    "\n",
    "# Reset index\n",
    "dim_location_df.reset_index(drop=True, inplace=True)\n",
    "\n",
    "# Add location_id as primary key\n",
    "dim_location_df['location_id'] = dim_location_df.index + 1\n",
    "\n",
    "# Rearrange columns\n",
    "dim_location_df = dim_location_df[['location_id', 'borough', 'latitude', 'longitude', 'zip_code', 'on_street_name', 'off_street_name']]\n",
    "\n",
    "# Print dimension table\n",
    "print(dim_location_df)"
   ]
  },
  {
   "cell_type": "code",
   "execution_count": null,
   "id": "001a98ad",
   "metadata": {},
   "outputs": [],
   "source": [
    "# Define a function to calculate the week of the month\n",
    "def week_of_month(dt):\n",
    "    year = dt.year\n",
    "    month = dt.month\n",
    "    day = dt.day\n",
    "\n",
    "    cal = calendar.monthcalendar(year, month)\n",
    "    week_number = (day - 1) // 7 + 1\n",
    "    return week_number\n",
    "\n",
    "# Extract relevant date-related columns from your dataset\n",
    "start_date = car_crash_df['crash_date'].min()\n",
    "end_date = car_crash_df['crash_date'].max()\n",
    "\n",
    "# Create a DataFrame for the date dimension\n",
    "date_dimension = pd.DataFrame({'date': pd.date_range(start_date, end_date, freq='H')})\n",
    "\n",
    "# Extract attributes\n",
    "date_dimension['year_number'] = date_dimension['date'].dt.year\n",
    "date_dimension['quarter_number'] = date_dimension['date'].dt.quarter\n",
    "date_dimension['month_number'] = date_dimension['date'].dt.month\n",
    "date_dimension['month_name'] = date_dimension['date'].dt.strftime('%B')\n",
    "date_dimension['day_number'] = date_dimension['date'].dt.day\n",
    "date_dimension['day_name'] = date_dimension['date'].dt.strftime('%A')\n",
    "date_dimension['hour_number'] = date_dimension['date'].dt.hour\n",
    "date_dimension['date_iso_format'] = date_dimension['date'].apply(lambda x: x.isoformat())\n",
    "date_dimension['date_id'] = date_dimension['date'].dt.strftime('%Y%m%d%H')\n",
    "\n",
    "# Add week of the month and week of the year\n",
    "date_dimension['week_of_month'] = date_dimension['date'].apply(week_of_month)\n",
    "date_dimension['week_of_year'] = date_dimension['date'].dt.strftime('%U')\n",
    "\n",
    "# Add crash_time column\n",
    "#date_dimension['time'] = car_crash_df['crash_time']\n",
    "\n",
    "# Define the order of columns in the date dimension\n",
    "new_order = ['date_id', 'date_iso_format','year_number','quarter_number','month_number','month_name','day_number','day_name', 'hour_number','week_of_month','week_of_year']\n",
    "date_dimension = date_dimension[new_order]\n",
    "\n",
    "# Print the date dimension\n",
    "print(date_dimension.head(25))"
   ]
  },
  {
   "cell_type": "code",
   "execution_count": null,
   "id": "791790cf",
   "metadata": {},
   "outputs": [],
   "source": [
    "# Step 1: Merge dimension tables with the original dataset\n",
    "\n",
    "# Merge with dim_location to add location_id\n",
    "car_crash_df = car_crash_df.merge(dim_location, on=['borough', 'latitude', 'longitude', 'zip_code', 'on_street_name', 'off_street_name', 'cross_street_name'], how='left')\n",
    "\n",
    "# Merge with dim_vehicle_type to add vehicle_id\n",
    "car_crash_df = car_crash_df.merge(dim_vehicle_type, on='vehicle_type_code', how='left')\n",
    "\n",
    "# Merge with dim_contributing_factors to add contributingfactor_id\n",
    "car_crash_df = car_crash_df.merge(dim_contributing_factors, on='contributing_factor_vehicle', how='left')\n",
    "\n",
    "# Merge with dim_date to add date_id\n",
    "car_crash_df = car_crash_df.merge(dim_date, on='crash_date', how='left')\n",
    "\n",
    "# Step 2: Rename columns\n",
    "new_column_names = {\n",
    "    'collision_id': 'fact_id',\n",
    "    'number_of_persons_injured': 'number_of_persons_injured',\n",
    "    'number_of_persons_killed': 'number_of_persons_killed',\n",
    "    'number_of_pedestrians_injured': 'number_of_pedestrians_injured',\n",
    "    'number_of_pedestrians_killed': 'number_of_pedestrians_killed',\n",
    "    'number_of_cyclist_injured': 'number_of_cyclist_injured',\n",
    "    'number_of_cyclist_killed': 'number_of_cyclist_killed',\n",
    "    'number_of_motorist_injured': 'number_of_motorist_injured',\n",
    "    'number_of_motorist_killed': 'number_of_motorist_killed',\n",
    "    'number_of_accidents': 'number_of_accidents',\n",
    "    'location_id': 'location_id',\n",
    "    'vehicle_id': 'vehicle_id',\n",
    "    'contributingfactor_id': 'contributingfactor_id'\n",
    "    # Add other columns and their corresponding names here\n",
    "}\n",
    "\n",
    "car_crash_df = car_crash_df.rename(columns=new_column_names)\n",
    "\n",
    "# Step 3: Reorder columns\n",
    "new_order = ['fact_id', 'number_of_persons_injured', 'number_of_persons_killed', 'number_of_pedestrians_injured', 'number_of_pedestrians_killed', 'number_of_cyclist_injured', 'number_of_cyclist_killed', 'number_of_motorist_injured', 'number_of_motorist_killed', 'number_of_accidents', 'location_id', 'date_id', 'vehicle_id', 'contributingfactor_id']\n",
    "\n",
    "car_crash_df = car_crash_df[new_order]\n",
    "car_crash_df.head()\n"
   ]
  },
  {
   "cell_type": "code",
   "execution_count": null,
   "id": "6f682d30",
   "metadata": {},
   "outputs": [],
   "source": []
  }
 ],
 "metadata": {
  "kernelspec": {
   "display_name": "Python 3",
   "language": "python",
   "name": "python3"
  },
  "language_info": {
   "codemirror_mode": {
    "name": "ipython",
    "version": 3
   },
   "file_extension": ".py",
   "mimetype": "text/x-python",
   "name": "python",
   "nbconvert_exporter": "python",
   "pygments_lexer": "ipython3",
   "version": "3.10.9 (v3.10.9:1dd9be6584, Dec  6 2022, 14:37:36) [Clang 13.0.0 (clang-1300.0.29.30)]"
  },
  "vscode": {
   "interpreter": {
    "hash": "aee8b7b246df8f9039afb4144a1f6fd8d2ca17a180786b69acc140d282b71a49"
   }
  }
 },
 "nbformat": 4,
 "nbformat_minor": 5
}
